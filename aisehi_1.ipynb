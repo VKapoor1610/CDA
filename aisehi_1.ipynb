{
  "cells": [
    {
      "cell_type": "markdown",
      "metadata": {
        "id": "TMxipFtdYoLY"
      },
      "source": [
        "#**Compressive Domain Analytics**"
      ]
    },
    {
      "cell_type": "markdown",
      "metadata": {
        "id": "eg3RMzeQYw9h"
      },
      "source": [
        "Carrying necessary imports."
      ]
    },
    {
      "cell_type": "code",
      "execution_count": null,
      "metadata": {
        "id": "68PXVDDelqQT"
      },
      "outputs": [],
      "source": [
        "# !pip install torch_xla\n",
        "# Required for tpu processing"
      ]
    },
    {
      "cell_type": "code",
      "execution_count": null,
      "metadata": {
        "id": "L7frB2b_tejX"
      },
      "outputs": [],
      "source": [
        "import torch\n",
        "import torch.nn as nn\n",
        "import torch.functional as F\n",
        "import torch.optim as optim\n",
        "\n",
        "import torchvision\n",
        "import torchvision.datasets as datasets\n",
        "import torchvision.transforms as transforms\n",
        "\n",
        "import numpy as np\n",
        "import matplotlib.pyplot as plt\n",
        "\n",
        "import torch.autograd as tag\n",
        "\n",
        "# import torch_xla # for using tpu\n",
        "# import torch_xla.core.xla_model as xm"
      ]
    },
    {
      "cell_type": "markdown",
      "metadata": {
        "id": "5qGhnOnSZHZM"
      },
      "source": [
        "**DataLoader** and **Download** helper function\n",
        "\n",
        "returns a dictionary of train,test dataloaders with class list."
      ]
    },
    {
      "cell_type": "code",
      "execution_count": null,
      "metadata": {
        "id": "h0XtE1CFt-ZK"
      },
      "outputs": [],
      "source": [
        "def get_big_cifar10_data(augmentation=0, root_dir = './data'):\n",
        "  # Data augmentation transformations. Not for Testing!\n",
        "    if augmentation:\n",
        "        transform_train = transforms.Compose([\n",
        "        transforms.Resize(128),\n",
        "        transforms.RandomCrop(128, padding=8, padding_mode='edge'), # Take 128x128 crops from 136x136 padded images\n",
        "        transforms.RandomHorizontalFlip(),    # 50% of time flip image along y-axis\n",
        "        transforms.ToTensor(),\n",
        "        ])\n",
        "    else:\n",
        "        transform_train = transforms.ToTensor()\n",
        "\n",
        "    transform_test = transforms.Compose([\n",
        "        transforms.Resize(128),\n",
        "        transforms.ToTensor(),\n",
        "    ])\n",
        "\n",
        "    trainset = torchvision.datasets.CIFAR10(root= root_dir, train=True, download=True,\n",
        "                                            transform=transform_train)\n",
        "    trainloader = torch.utils.data.DataLoader(trainset, batch_size=128, shuffle=True,\n",
        "                                            num_workers=2)\n",
        "\n",
        "    testset = torchvision.datasets.CIFAR10(root=root_dir, train=False, download=True,\n",
        "                                        transform=transform_test)\n",
        "    testloader = torch.utils.data.DataLoader(testset, batch_size=128, shuffle=False,\n",
        "                                            num_workers=2)\n",
        "    classes = ['plane', 'car', 'bird', 'cat', 'deer', 'dog', 'frog', 'horse', 'ship', 'truck']\n",
        "    return {'train': trainloader, 'test': testloader, 'classes': classes}\n"
      ]
    },
    {
      "cell_type": "markdown",
      "metadata": {
        "id": "DZYOAg7AZpRm"
      },
      "source": [
        "Custom Defined **Quantize Layer** for efficiently transmitting data at lower bit rate."
      ]
    },
    {
      "cell_type": "code",
      "execution_count": null,
      "metadata": {
        "id": "u5O0RaxTt-VE"
      },
      "outputs": [],
      "source": [
        "class QuantizeFunction(tag.Function):\n",
        "\n",
        "    @staticmethod\n",
        "    def forward(ctx, tensor, qp=0.5, normalize=True):\n",
        "        ctx.qp = qp\n",
        "        ctx.normalize = normalize\n",
        "        if normalize == True:\n",
        "            output = qp*torch.round(tensor/qp)\n",
        "        else:\n",
        "            output = torch.round(tensor/qp)\n",
        "        return output\n",
        "\n",
        "    @staticmethod\n",
        "    def backward(ctx, grad_output):\n",
        "        if ctx.normalize == True:\n",
        "            grad_input = grad_output.clone()\n",
        "        else:\n",
        "            grad_input = grad_output.clone()/ctx.qp\n",
        "        return grad_input, None, None\n",
        "\n",
        "class QuantizeLayer(torch.nn.Module):\n",
        "    \"\"\"\n",
        "        Custom defined.\n",
        "    \"\"\"\n",
        "    def __init__(self, qp=0.5, normalize=True):\n",
        "        super(QuantizeLayer, self).__init__()\n",
        "        self.qp = qp\n",
        "        self.normalize = normalize\n",
        "\n",
        "    def forward(self, input):\n",
        "        return QuantizeFunction.apply(input, self.qp, self.normalize)"
      ]
    },
    {
      "cell_type": "markdown",
      "metadata": {
        "id": "bTl-usi1aZp3"
      },
      "source": [
        "Train function for **maximizing the zeros** in activation of **QuantizeLayer()**"
      ]
    },
    {
      "cell_type": "code",
      "execution_count": null,
      "metadata": {
        "id": "5uyCInU7aZMC"
      },
      "outputs": [],
      "source": [
        "\n",
        "def train_on_quantize(net, dataloader, epochs=1, start_epoch=0, lr=0.01, momentum=0.9, decay=0.0005,\n",
        "          verbose=1, print_every=100, state=None, schedule={}, checkpoint_path=None):\n",
        "\n",
        "  net.to(device)\n",
        "  net.train()\n",
        "\n",
        "# To store the losses for plotting purpose\n",
        "  losses = []\n",
        "\n",
        "# Set 'L2 norm' as criteria\n",
        "  rate_criterion = nn.MSELoss()\n",
        "\n",
        "# Stochastic Gradient Descend\n",
        "  optimizer = optim.SGD(net.parameters(), lr=lr, momentum=momentum, weight_decay=decay)\n",
        "\n",
        "  # Load previous training state (Not Required for this model )\n",
        "  if state:\n",
        "      net.load_state_dict(state['net'])\n",
        "      optimizer.load_state_dict(state['optimizer'])\n",
        "      start_epoch = state['epoch']\n",
        "      losses = state['losses']\n",
        "\n",
        "  # Fast forward lr schedule through already trained epochs\n",
        "  for epoch in range(start_epoch):\n",
        "    if epoch in schedule:\n",
        "      print (\"Learning rate: %f\"% schedule[epoch])\n",
        "      for g in optimizer.param_groups:\n",
        "        g['lr'] = schedule[epoch]\n",
        "\n",
        "# TRAINING START\n",
        "  for epoch in range(start_epoch, epochs):\n",
        "    sum_loss = 0.0\n",
        "\n",
        "    # Update learning rate when scheduled\n",
        "    if epoch in schedule:\n",
        "      print (\"Learning rate: %f\"% schedule[epoch])\n",
        "      for g in optimizer.param_groups:\n",
        "        g['lr'] = schedule[epoch]\n",
        "\n",
        "    for i, batch in enumerate(dataloader, 0):\n",
        "        inputs, labels = batch[0].to(device), batch[1].to(device)\n",
        "\n",
        "        optimizer.zero_grad() #1\n",
        "\n",
        "        outputs = net.layer2[1](net.layer1(net.maxpool(net.relu(net.bn1(net.conv1(inputs))))))\n",
        "\n",
        "        # RATE LOSS\n",
        "        # Approach: Compute the L2-Norm with zero tensor(our target in this case)\n",
        "        # Backpropogation will lead to increasing the no of zeros in activation of QuantizeLayer()\n",
        "        rate_loss = rate_criterion(outputs, torch.zeros_like(outputs))\n",
        "\n",
        "        rate_loss.backward()\n",
        "\n",
        "        if( device == 'cuda:0' or device == 'cpu'):\n",
        "            optimizer.step()\n",
        "        else:\n",
        "            xm.optimizer_step(optimizer= optimizer) # takes a step in gradient direction\n",
        "\n",
        "\n",
        "        losses.append(rate_loss.item())\n",
        "        sum_loss += rate_loss.item()\n",
        "\n",
        "        if i % print_every == print_every-1:    # print every 10 mini-batches\n",
        "            if verbose:\n",
        "              print('[%d, %5d] loss: %.5f' % (epoch, i + 1, sum_loss / print_every))\n",
        "            sum_loss = 0.0\n",
        "\n",
        "    print(\"EPOCH \", epoch)\n",
        "    print(\" Training Accuracy is: \" , accuracy(net ,  dataloader) , end= \"|\")\n",
        "    c,t = no_of_zeros( net , dataloader)\n",
        "    print(\" Zeros: \",c , \" total: \", t , \" Ratio: \",  c/t  )\n",
        "    print( \"Testing Accuracy is: \", accuracy(net , big_cifar_data['test']), end = \"\\n\\n\")\n",
        "\n",
        "    if checkpoint_path: #(Not required for this case)\n",
        "      state = {'epoch': epoch+1, 'net': net.state_dict(), 'optimizer': optimizer.state_dict(), 'losses': losses}\n",
        "      torch.save(state, checkpoint_path + 'checkpoint-%d.pkl'%(epoch+1))\n",
        "\n",
        "  return losses"
      ]
    },
    {
      "cell_type": "markdown",
      "metadata": {
        "id": "98QJ5wO-fEwJ"
      },
      "source": [
        "Train function for **classification task** for training after QuantizeLayer()."
      ]
    },
    {
      "cell_type": "code",
      "execution_count": null,
      "metadata": {
        "id": "juwE6eqaelrS"
      },
      "outputs": [],
      "source": [
        "\n",
        "def train_after_quantize(net, dataloader, epochs=1, start_epoch=0, lr=0.01, momentum=0.9, decay=0.0005,\n",
        "          verbose=1, print_every=100, state=None, schedule={}, checkpoint_path=None):\n",
        "\n",
        "  net.to(device)\n",
        "  net.train()\n",
        "\n",
        "# To store the losses for plotting purpose\n",
        "  losses = []\n",
        "\n",
        "# Set 'L2 norm' as criteria\n",
        "  task_criterion = nn.CrossEntropyLoss()\n",
        "\n",
        "# Stochastic Gradient Descend\n",
        "  optimizer = optim.SGD(net.parameters(), lr=lr, momentum=momentum, weight_decay=decay)\n",
        "\n",
        "  # Load previous training state (Not Required for this model )\n",
        "  if state:\n",
        "      net.load_state_dict(state['net'])\n",
        "      optimizer.load_state_dict(state['optimizer'])\n",
        "      start_epoch = state['epoch']\n",
        "      losses = state['losses']\n",
        "\n",
        "  # Fast forward lr schedule through already trained epochs\n",
        "  for epoch in range(start_epoch):\n",
        "    if epoch in schedule:\n",
        "      print (\"Learning rate: %f\"% schedule[epoch])\n",
        "      for g in optimizer.param_groups:\n",
        "        g['lr'] = schedule[epoch]\n",
        "\n",
        "# TRAINING START\n",
        "  for epoch in range(start_epoch, epochs):\n",
        "    sum_loss = 0.0\n",
        "\n",
        "    # Update learning rate when scheduled\n",
        "    if epoch in schedule:\n",
        "      print (\"Learning rate: %f\"% schedule[epoch])\n",
        "      for g in optimizer.param_groups:\n",
        "        g['lr'] = schedule[epoch]\n",
        "\n",
        "    for i, batch in enumerate(dataloader, 0):\n",
        "        inputs, labels = batch[0].to(device), batch[1].to(device)\n",
        "\n",
        "        optimizer.zero_grad() #1\n",
        "\n",
        "        outputs = net(inputs)\n",
        "\n",
        "        # TASK LOSS\n",
        "        # Approach: Classification using categorical cross entropy.\n",
        "        task_loss = task_criterion(outputs, labels)\n",
        "\n",
        "        task_loss.backward()\n",
        "\n",
        "        # if( device == 'cuda:0' or device == 'cpu'):\n",
        "        optimizer.step()\n",
        "        # else:\n",
        "        #     xm.optimizer_step(optimizer= optimizer) # takes a step in gradient direction\n",
        "\n",
        "\n",
        "        losses.append(task_loss.item())\n",
        "        sum_loss += task_loss.item()\n",
        "\n",
        "        if i % print_every == print_every-1:    # print every 10 mini-batches\n",
        "            if verbose:\n",
        "              print('[%d, %5d] loss: %.5f' % (epoch, i + 1, sum_loss / print_every))\n",
        "            sum_loss = 0.0\n",
        "\n",
        "    print(\"EPOCH \", epoch)\n",
        "    print(\" Training Accuracy is: \" , accuracy(net ,  dataloader) , end= \"|\")\n",
        "    # c,t = no_of_zeros( net , dataloader)\n",
        "    # print(\" Zeros: \",c , \" total: \", t , \" Ratio: \",  c/t  )\n",
        "    print( \"Testing Accuracy is: \", accuracy(net , big_cifar_data['test']), end = \"\\n\\n\")\n",
        "\n",
        "    if checkpoint_path: #(Not required for this case)\n",
        "      state = {'epoch': epoch+1, 'net': net.state_dict(), 'optimizer': optimizer.state_dict(), 'losses': losses}\n",
        "      torch.save(state, checkpoint_path + 'checkpoint-%d.pkl'%(epoch+1))\n",
        "\n",
        "  return losses"
      ]
    },
    {
      "cell_type": "markdown",
      "metadata": {
        "id": "0uHxBDpZgL7r"
      },
      "source": [
        "Train Function for combined rate loss and task loss\n",
        "\n",
        "**loss = Lt + (lambda)*Lr**"
      ]
    },
    {
      "cell_type": "code",
      "execution_count": null,
      "metadata": {
        "id": "hMT01LVAua1h"
      },
      "outputs": [],
      "source": [
        "def train_regularized(net, dataloader, epochs=1, lmbda= 0.1 , start_epoch=0, lr=0.01, momentum=0.9, decay=0.0005,\n",
        "          verbose=1, print_every=100, state=None, schedule={}, checkpoint_path=None):\n",
        "\n",
        "#   send the network to device and set it to training mode\n",
        "  net.to(device)\n",
        "  net.train()\n",
        "\n",
        "# Lt (Task Loss) -> CrossEntropyLoss and Lr (Rate Loss) -> Mean Squared Error Loss\n",
        "  losses = []\n",
        "  task_criterion = nn.CrossEntropyLoss()\n",
        "  rate_criterion = nn.MSELoss()\n",
        "\n",
        "# Stochastic Gradient Descend\n",
        "  optimizer = optim.SGD(net.parameters(), lr=lr, momentum=momentum, weight_decay=decay)\n",
        "\n",
        "# Load previous training state\n",
        "  if state:\n",
        "      net.load_state_dict(state['net'])\n",
        "      optimizer.load_state_dict(state['optimizer'])\n",
        "      start_epoch = state['epoch']\n",
        "      losses = state['losses']\n",
        "\n",
        "# Fast forward lr schedule through already trained epochs\n",
        "  for epoch in range(start_epoch):\n",
        "    if epoch in schedule:\n",
        "      print (\"Learning rate: %f\"% schedule[epoch])\n",
        "      for g in optimizer.param_groups:\n",
        "        g['lr'] = schedule[epoch]\n",
        "\n",
        "  for epoch in range(start_epoch, epochs):\n",
        "\n",
        "    print(\"EPOCH \", epoch)\n",
        "    sum_loss = 0.0\n",
        "    sum_rate = 0.0\n",
        "    sum_task = 0.0\n",
        "\n",
        "    # Update learning rate when scheduled\n",
        "    if epoch in schedule:\n",
        "      print (\"Learning rate: %f\"% schedule[epoch])\n",
        "      for g in optimizer.param_groups:\n",
        "        g['lr'] = schedule[epoch]\n",
        "\n",
        "    # BATCH TRAINING\n",
        "    for i, batch in enumerate(dataloader, 0):\n",
        "        inputs, labels = batch[0].to(device), batch[1].to(device)\n",
        "\n",
        "        optimizer.zero_grad() # 1\n",
        "\n",
        "        outputs = net(inputs)\n",
        "        temp = net.layer2[1](net.layer1(net.maxpool(net.relu(net.bn1(net.conv1(inputs))))))\n",
        "\n",
        "        task_loss = task_criterion(outputs, labels)\n",
        "        rate_loss = rate_criterion(temp , torch.zeros_like(temp))\n",
        "\n",
        "        loss_total = task_loss + (lmbda)*rate_loss # loss = Lt + (lambda)*Lr\n",
        "\n",
        "        loss_total.backward()  # autograd magic, computes all the partial derivatives\n",
        "\n",
        "        # if( device == 'cuda:0' or device == 'cpu'):\n",
        "        optimizer.step()\n",
        "        # else:\n",
        "        #     xm.optimizer_step(optimizer= optimizer) # takes a step in gradient direction\n",
        "\n",
        "        losses.append(loss_total.item())\n",
        "        sum_loss += loss_total.item()\n",
        "        sum_task += task_loss.item()\n",
        "        sum_rate += rate_loss.item()\n",
        "\n",
        "        if i % print_every == print_every-1:    # print every 10 mini-batches\n",
        "            if verbose:\n",
        "              print('[%d, %5d] loss: %.5f' % (epoch, i + 1, sum_loss / print_every))\n",
        "            #   print( \"Lr = \" , round(sum_rate/print_every ,4  ), \" Lt = \" , round( sum_task/ print_every , 4 ) )\n",
        "            sum_loss = 0.0\n",
        "            sum_rate = 0.0\n",
        "            sum_task = 0.0\n",
        "\n",
        "    print(\" Training Accuracy is: \" , accuracy(net ,  dataloader) , end= \"|\")\n",
        "    c,t = no_of_zeros( net , dataloader)\n",
        "    print(\" Zeros: \",c , \" total: \", t , \" Ratio: \",  c/t  )\n",
        "    print( \"Testing Accuracy is: \", accuracy(net , big_cifar_data['test']), end = \"\\n\\n\")\n",
        "\n",
        "    if checkpoint_path:\n",
        "      state = {'epoch': epoch+1, 'net': net.state_dict(), 'optimizer': optimizer.state_dict(), 'losses': losses}\n",
        "      torch.save(state, checkpoint_path + 'checkpoint-%d.pkl'%(epoch+1))\n",
        "\n",
        "  return losses"
      ]
    },
    {
      "cell_type": "markdown",
      "metadata": {
        "id": "TjLFBwUkg4TP"
      },
      "source": [
        "Helper functions for:\n",
        "\n",
        "1.   Accuracy\n",
        "2.   Plotting\n",
        "\n"
      ]
    },
    {
      "cell_type": "code",
      "execution_count": null,
      "metadata": {
        "id": "IwD5wRlmg2cY"
      },
      "outputs": [],
      "source": [
        "def accuracy(net, dataloader):\n",
        "  net.to(device)\n",
        "  net.eval()\n",
        "  correct = 0\n",
        "  total = 0\n",
        "  with torch.no_grad():\n",
        "      for batch in dataloader:\n",
        "          images, labels = batch[0].to(device), batch[1].to(device)\n",
        "          outputs = net(images)\n",
        "          _, predicted = torch.max(outputs.data, 1)\n",
        "          total += labels.size(0)\n",
        "          correct += (predicted == labels).sum().item()\n",
        "  return correct/total\n",
        "\n",
        "def no_of_zeros(net, dataloader):\n",
        "  net.to(device)\n",
        "  net.eval()\n",
        "  correct = 0\n",
        "  total = 0\n",
        "  with torch.no_grad():\n",
        "      for batch in dataloader:\n",
        "          images, labels = batch[0].to(device), batch[1].to(device)\n",
        "          outputs = net.layer2[1].quant(net.layer2[1].encoder(net.layer1(net.maxpool(net.relu(net.bn1(net.conv1(inputs)))))))\n",
        "          total += torch.numel(outputs)\n",
        "          correct +=  (torch.numel(outputs) - torch.count_nonzero(outputs).item())\n",
        "  return correct, total\n",
        "\n",
        "def no_of_zeros_new(net, dataloader):\n",
        "  net.to(device)\n",
        "  net.eval()\n",
        "  correct = 0\n",
        "  total = 0\n",
        "  with torch.no_grad():\n",
        "      for batch in dataloader:\n",
        "          images, labels = batch[0].to(device), batch[1].to(device)\n",
        "          outputs = net.layer2[1].quant(net.layer2[1].encoder(net.layer1(net.maxpool(net.relu(net.bn1(net.conv1(images)))))))\n",
        "          total += torch.numel(outputs)\n",
        "          correct +=  (torch.numel(outputs) - torch.count_nonzero(outputs).item())\n",
        "  return correct, total\n",
        "\n",
        "def smooth(x, size):\n",
        "  return np.convolve(x, np.ones(size)/size, mode='valid')"
      ]
    },
    {
      "cell_type": "markdown",
      "metadata": {
        "id": "OGGbwym6Y9uW"
      },
      "source": [
        "set device to **cuda:0** if training on GPU"
      ]
    },
    {
      "cell_type": "code",
      "execution_count": null,
      "metadata": {
        "id": "X1ykZslhtrBy",
        "colab": {
          "base_uri": "https://localhost:8080/"
        },
        "outputId": "eae45bb7-2720-42d3-ddb6-de941756a2ca"
      },
      "outputs": [
        {
          "output_type": "stream",
          "name": "stdout",
          "text": [
            "cuda:0\n"
          ]
        }
      ],
      "source": [
        "device = 'cuda:0' if torch.cuda.is_available() else 'cpu'\n",
        "print(device)"
      ]
    },
    {
      "cell_type": "markdown",
      "metadata": {
        "id": "IiTFuLVtZz-P"
      },
      "source": [
        "if using **tpu** use minor modification"
      ]
    },
    {
      "cell_type": "code",
      "execution_count": null,
      "metadata": {
        "id": "kLBPbYKjZkX1"
      },
      "outputs": [],
      "source": [
        "# device = xm.xla_device()  # Use TPU\n",
        "# # Use xm.optimizer_step(optimizer= ) for optimizer updates instead of optimizer.step().\n",
        "# print(device)"
      ]
    },
    {
      "cell_type": "markdown",
      "metadata": {
        "id": "klQB_PQjZev8"
      },
      "source": [
        "# **1. Load Data**"
      ]
    },
    {
      "cell_type": "code",
      "execution_count": null,
      "metadata": {
        "colab": {
          "base_uri": "https://localhost:8080/"
        },
        "id": "RJ95PxAzuCF7",
        "outputId": "264327e6-d548-4051-fc89-95f5914401c7"
      },
      "outputs": [
        {
          "output_type": "stream",
          "name": "stdout",
          "text": [
            "Files already downloaded and verified\n",
            "Files already downloaded and verified\n"
          ]
        }
      ],
      "source": [
        "big_cifar_data = get_big_cifar10_data(augmentation=1 , root_dir= './drive/MyDrive/data' )\n"
      ]
    },
    {
      "cell_type": "markdown",
      "metadata": {
        "id": "BwEXjfiPiUWt"
      },
      "source": [
        "# **2. Load Pretrained Resnet18 Model**"
      ]
    },
    {
      "cell_type": "markdown",
      "metadata": {
        "id": "qNN483nijR8O"
      },
      "source": [
        "Split Point between Layer1 and Layer2."
      ]
    },
    {
      "cell_type": "code",
      "execution_count": null,
      "metadata": {
        "colab": {
          "base_uri": "https://localhost:8080/"
        },
        "id": "sxKF1VZSuLra",
        "outputId": "3f5a33a5-33fb-45be-b7f4-14453c35aab0"
      },
      "outputs": [
        {
          "name": "stderr",
          "output_type": "stream",
          "text": [
            "/usr/local/lib/python3.10/dist-packages/torchvision/models/_utils.py:208: UserWarning: The parameter 'pretrained' is deprecated since 0.13 and may be removed in the future, please use 'weights' instead.\n",
            "  warnings.warn(\n",
            "/usr/local/lib/python3.10/dist-packages/torchvision/models/_utils.py:223: UserWarning: Arguments other than a weight enum or `None` for 'weights' are deprecated since 0.13 and may be removed in the future. The current behavior is equivalent to passing `weights=ResNet18_Weights.IMAGENET1K_V1`. You can also use `weights=ResNet18_Weights.DEFAULT` to get the most up-to-date weights.\n",
            "  warnings.warn(msg)\n"
          ]
        }
      ],
      "source": [
        "model = torchvision.models.resnet18( pretrained = True )\n",
        "\n",
        "# Set the output to 10 ( ten-classes classification)\n",
        "model.fc = nn.Linear(512 , 10 )\n",
        "\n",
        "# create instance of layer1 and layer2\n",
        "layer1 = model.layer1\n",
        "layer2 = model.layer2\n",
        "\n",
        "# Quantizing Parameter is 1.\n",
        "quant_layer = QuantizeLayer(qp=1)\n",
        "\n",
        "# Created a split-point between the laye1 and layer2\n",
        "model.layer2 = nn.Sequential(layer1 , quant_layer , layer2 )\n"
      ]
    },
    {
      "cell_type": "markdown",
      "metadata": {
        "id": "YYz1eZEvkBiy"
      },
      "source": [
        "# **3. Train before Quantize Layer.**"
      ]
    },
    {
      "cell_type": "code",
      "execution_count": null,
      "metadata": {
        "colab": {
          "base_uri": "https://localhost:8080/"
        },
        "id": "joe5oxkDkAha",
        "outputId": "80df204d-b7f4-40fd-c66a-480f8e98094b"
      },
      "outputs": [
        {
          "name": "stdout",
          "output_type": "stream",
          "text": [
            "[0,   100] loss: 0.50178\n",
            "[0,   200] loss: 0.50145\n",
            "[0,   300] loss: 0.50180\n",
            "EPOCH  0\n",
            " Training Accuracy is:  0.10028| Zeros:  1992813818  total:  3276800000  Ratio:  0.6081585137939454\n",
            "Testing Accuracy is:  0.1006\n",
            "\n",
            "[1,   100] loss: 0.50098\n",
            "[1,   200] loss: 0.50115\n",
            "[1,   300] loss: 0.50047\n",
            "EPOCH  1\n",
            " Training Accuracy is:  0.10058| Zeros:  1992832109  total:  3276800000  Ratio:  0.6081640957641602\n",
            "Testing Accuracy is:  0.1006\n",
            "\n"
          ]
        }
      ],
      "source": [
        "loss1 = train_on_quantize( model , big_cifar_data['train'] , epochs=2 , lr=0.001 )"
      ]
    },
    {
      "cell_type": "code",
      "execution_count": null,
      "metadata": {
        "colab": {
          "base_uri": "https://localhost:8080/"
        },
        "id": "4eBr0_ItDQfZ",
        "outputId": "ab6acb95-eb0f-442e-d392-d9fa055c12e4"
      },
      "outputs": [
        {
          "name": "stdout",
          "output_type": "stream",
          "text": [
            "[0,   100] loss: 0.50190\n",
            "[0,   200] loss: 0.50140\n",
            "[0,   300] loss: 0.50171\n",
            "EPOCH  0\n",
            " Training Accuracy is:  0.10052| Zeros:  1991736739  total:  3276800000  Ratio:  0.6078298153686523\n",
            "Testing Accuracy is:  0.1005\n",
            "\n",
            "[1,   100] loss: 0.50140\n",
            "[1,   200] loss: 0.50106\n",
            "[1,   300] loss: 0.50108\n",
            "EPOCH  1\n",
            " Training Accuracy is:  0.10082| Zeros:  1991722988  total:  3276800000  Ratio:  0.6078256188964843\n",
            "Testing Accuracy is:  0.1005\n",
            "\n"
          ]
        }
      ],
      "source": [
        "loss1_contd = train_on_quantize( model , big_cifar_data['train'] , epochs = 2, lr =0.01 )"
      ]
    },
    {
      "cell_type": "code",
      "execution_count": null,
      "metadata": {
        "colab": {
          "base_uri": "https://localhost:8080/"
        },
        "id": "X-po3q5qQbso",
        "outputId": "65349218-9620-4623-e9b4-65ec24e49f24"
      },
      "outputs": [
        {
          "name": "stdout",
          "output_type": "stream",
          "text": [
            "1992841842   3276800000\n"
          ]
        },
        {
          "data": {
            "text/plain": [
              "0.6081670660400391"
            ]
          },
          "execution_count": 46,
          "metadata": {},
          "output_type": "execute_result"
        }
      ],
      "source": [
        "c,t = no_of_zeros( model , big_cifar_data['train'])\n",
        "print( c ,' ',  t )\n",
        "c/t"
      ]
    },
    {
      "cell_type": "markdown",
      "metadata": {
        "id": "ehzHa41tlCwj"
      },
      "source": [
        "# **4. Freeze all layers before Quantize Layer.**"
      ]
    },
    {
      "cell_type": "markdown",
      "metadata": {
        "id": "724DhG-9UHjh"
      },
      "source": [
        "Layers include\n",
        "\n",
        "*   conv1\n",
        "*   bn1\n",
        "*   layer1\n",
        "\n"
      ]
    },
    {
      "cell_type": "code",
      "execution_count": null,
      "metadata": {
        "id": "_ZC9UowalqI3"
      },
      "outputs": [],
      "source": [
        "for p in model.conv1.parameters():\n",
        "    p.requires_grad = False\n",
        "\n",
        "for p in model.bn1.parameters():\n",
        "    p.requires_grad = False\n",
        "\n",
        "for p in model.layer1.parameters():\n",
        "    p.requires_grad = False\n"
      ]
    },
    {
      "cell_type": "markdown",
      "metadata": {
        "id": "1Z0eJdoNkcoi"
      },
      "source": [
        "# **5. Train after Quantize Layers.**"
      ]
    },
    {
      "cell_type": "code",
      "execution_count": null,
      "metadata": {
        "id": "wlVsiRUeUb9x"
      },
      "outputs": [],
      "source": [
        "loss2 = train_after_quantize(model , big_cifar_data['train'] , epochs= 5 , lr = 0.01 )"
      ]
    },
    {
      "cell_type": "code",
      "execution_count": null,
      "metadata": {
        "colab": {
          "base_uri": "https://localhost:8080/"
        },
        "id": "YtDLCxs6uR3r",
        "outputId": "3321211c-763c-4ce1-fa7c-e563d812c72f"
      },
      "outputs": [
        {
          "name": "stdout",
          "output_type": "stream",
          "text": [
            " Testing accuracy is : 0.728900 \n"
          ]
        }
      ],
      "source": [
        "print(\" Testing accuracy is : %f \" %accuracy(model , big_cifar_data['test']))"
      ]
    },
    {
      "cell_type": "code",
      "execution_count": null,
      "metadata": {
        "colab": {
          "base_uri": "https://localhost:8080/"
        },
        "id": "SMDHVms801GG",
        "outputId": "da424807-dc2c-4e97-cd1f-4fc7ca526353"
      },
      "outputs": [
        {
          "name": "stdout",
          "output_type": "stream",
          "text": [
            " Training accuracy is : 0.749940 \n"
          ]
        }
      ],
      "source": [
        "print(\" Training accuracy is : %f \" %accuracy(model , big_cifar_data['train']))"
      ]
    },
    {
      "cell_type": "markdown",
      "metadata": {
        "id": "KVhL_J7GXVzG"
      },
      "source": [
        "# **6. Plotting graph for loss over the epochs**"
      ]
    },
    {
      "cell_type": "code",
      "execution_count": null,
      "metadata": {
        "id": "dwa1SU26S_Dk"
      },
      "outputs": [],
      "source": [
        "plt.plot(smooth(loss1 , 50 ))"
      ]
    },
    {
      "cell_type": "code",
      "execution_count": null,
      "metadata": {
        "id": "JtddVqTOXqKS"
      },
      "outputs": [],
      "source": [
        "plt.plot(smooth(loss2 , 50 ))"
      ]
    },
    {
      "cell_type": "markdown",
      "metadata": {
        "id": "82QuQmI-hjKI"
      },
      "source": [
        "# **7. Train Combined. using Lr and Lt**"
      ]
    },
    {
      "cell_type": "markdown",
      "metadata": {
        "id": "37SDf1R0Tln0"
      },
      "source": [
        "    next training for epochs = 4 at lr = 0.01\n"
      ]
    },
    {
      "cell_type": "code",
      "execution_count": null,
      "metadata": {
        "id": "Zkc6nvRVhtEU"
      },
      "outputs": [],
      "source": [
        "model_comb = torchvision.models.resnet18( pretrained = True )\n",
        "\n",
        "# Set the output to 10 ( ten-classes classification)\n",
        "model_comb.fc = nn.Linear(512 , 10 )\n",
        "\n",
        "# create instance of layer1 and layer2\n",
        "layer1 = model_comb.layer1\n",
        "layer2 = model_comb.layer2\n",
        "\n",
        "# Quantizing Parameter is 2.\n",
        "quant_layer = QuantizeLayer(qp=1)\n",
        "\n",
        "# Created a split-point between the laye1 and layer2\n",
        "model_comb.layer2 = nn.Sequential(layer1 , quant_layer , layer2 )\n"
      ]
    },
    {
      "cell_type": "code",
      "execution_count": null,
      "metadata": {
        "id": "KaHIP7rFxURq",
        "colab": {
          "base_uri": "https://localhost:8080/"
        },
        "outputId": "295f77d1-6428-4556-8f65-f29d309b5828"
      },
      "outputs": [
        {
          "output_type": "stream",
          "name": "stdout",
          "text": [
            "EPOCH  0\n",
            "[0,   100] loss: 0.78821\n",
            "[0,   200] loss: 0.39343\n",
            "[0,   300] loss: 0.35372\n",
            " Training Accuracy is:  0.90124| Zeros:  2247549069  total:  3276800000  Ratio:  0.6858975430297851\n",
            "Testing Accuracy is:  0.8827\n",
            "\n",
            "EPOCH  1\n",
            "[1,   100] loss: 0.59317\n",
            "[1,   200] loss: 0.43584\n",
            "[1,   300] loss: 0.37420\n",
            " Training Accuracy is:  0.90638| Zeros:  2623206186  total:  3276800000  Ratio:  0.8005389971923829\n",
            "Testing Accuracy is:  0.8921\n",
            "\n",
            "EPOCH  2\n",
            "[2,   100] loss: 0.29237\n",
            "[2,   200] loss: 0.30556\n",
            "[2,   300] loss: 0.27987\n",
            " Training Accuracy is:  0.90462| Zeros:  2659822750  total:  3276800000  Ratio:  0.8117134857177735\n",
            "Testing Accuracy is:  0.8822\n",
            "\n",
            "EPOCH  3\n",
            "[3,   100] loss: 0.25106\n",
            "[3,   200] loss: 0.24504\n",
            "[3,   300] loss: 0.23476\n",
            " Training Accuracy is:  0.94694| Zeros:  2729132483  total:  3276800000  Ratio:  0.8328651376342774\n",
            "Testing Accuracy is:  0.9266\n",
            "\n",
            "EPOCH  4\n",
            "[4,   100] loss: 0.22435\n",
            "[4,   200] loss: 0.21259\n",
            "[4,   300] loss: 0.20726\n",
            " Training Accuracy is:  0.9474| Zeros:  2775734818  total:  3276800000  Ratio:  0.8470870416259766\n",
            "Testing Accuracy is:  0.919\n",
            "\n"
          ]
        }
      ],
      "source": [
        "lss = train_regularized( model_comb , big_cifar_data['train'] , epochs = 5 , lr = 0.01 , print_every =100  )"
      ]
    },
    {
      "cell_type": "code",
      "source": [
        "torch.save(model_comb , './drive/MyDrive/model.pth')"
      ],
      "metadata": {
        "id": "hy1UTsT2k_Z7"
      },
      "execution_count": null,
      "outputs": []
    },
    {
      "cell_type": "code",
      "source": [
        "lss = train_regularized( model_comb , big_cifar_data['train'] , epochs = 3 , lmbda=0.1 , print_every =100 )"
      ],
      "metadata": {
        "id": "b3ONDU77-Doy"
      },
      "execution_count": null,
      "outputs": []
    },
    {
      "cell_type": "code",
      "execution_count": null,
      "metadata": {
        "colab": {
          "base_uri": "https://localhost:8080/"
        },
        "id": "sZ1jhZEHzqyC",
        "outputId": "085d4bc4-61df-4264-b734-d54618b3dcd6"
      },
      "outputs": [
        {
          "output_type": "stream",
          "name": "stdout",
          "text": [
            "0.8462426834106446\n"
          ]
        }
      ],
      "source": [
        "c ,t = no_of_zeros(model_comb , big_cifar_data['test'])\n",
        "# print(c)\n",
        "print(c/t)"
      ]
    },
    {
      "cell_type": "code",
      "execution_count": null,
      "metadata": {
        "id": "wNk0Mt7yik9U"
      },
      "outputs": [],
      "source": [
        "print(\"training accuracy : \", accuracy( model_comb , big_cifar_data['train']))\n",
        "print(\"testing accuracy : \", accuracy( model_comb , big_cifar_data['test']))\n"
      ]
    },
    {
      "cell_type": "code",
      "source": [
        "print(model_comb)"
      ],
      "metadata": {
        "id": "qvnlw4iNzmkl"
      },
      "execution_count": null,
      "outputs": []
    },
    {
      "cell_type": "code",
      "execution_count": null,
      "metadata": {
        "colab": {
          "base_uri": "https://localhost:8080/",
          "height": 447
        },
        "id": "tjND1qJ2i4Ch",
        "outputId": "f50285ac-2ddd-4396-cb68-1c72b3971e4d"
      },
      "outputs": [
        {
          "output_type": "execute_result",
          "data": {
            "text/plain": [
              "[<matplotlib.lines.Line2D at 0x7faf952cf730>]"
            ]
          },
          "metadata": {},
          "execution_count": 20
        },
        {
          "output_type": "display_data",
          "data": {
            "text/plain": [
              "<Figure size 640x480 with 1 Axes>"
            ],
            "image/png": "[encoded data removed]"
          },
          "metadata": {}
        }
      ],
      "source": [
        "plt.plot(smooth(lss , 50))"
      ]
    },
    {
      "cell_type": "markdown",
      "metadata": {
        "id": "oAQRG4j6qGOS"
      },
      "source": [
        "#**Huffmann Coding**"
      ]
    },
    {
      "cell_type": "markdown",
      "source": [
        "Building the frequency table for huffmann encoding in *data_dic*."
      ],
      "metadata": {
        "id": "6svoWncks0Pu"
      }
    },
    {
      "cell_type": "code",
      "execution_count": null,
      "metadata": {
        "id": "nEGAZ7i9XJUr"
      },
      "outputs": [],
      "source": [
        "def huffmann_data_train(net, dataloader):\n",
        "    dic = {} # an empty dictioinary for huffmann coding\n",
        "    net.to(device)\n",
        "\n",
        "    for batch in dataloader:\n",
        "        images, labels = batch[0].to(device), batch[1].to(device)\n",
        "        outputs = net.layer2[1](net.layer1(net.maxpool(net.relu(net.bn1(net.conv1(images))))))\n",
        "        l = outputs.flatten().tolist()\n",
        "        for i in l:\n",
        "            if( dic.get(i) is None):\n",
        "                dic[i] = 1\n",
        "            else:\n",
        "                dic[i]+=1\n",
        "\n",
        "    return dic\n",
        "\n",
        "# build data_dict on 'train' data\n",
        "data_dict = huffmann_data_train(model_comb , big_cifar_data['train'])\n",
        "\n",
        "# data_dict = {\"0.0\": 2775722279, \"1.0\": 472760502, \"2.0\": 25501475, \"3.0\": 2514363, \"4.0\": 252588, \"5.0\": 40634, \"6.0\": 6465, \"7.0\": 1242, \"8.0\": 264, \"9.0\": 90, \"10.0\": 71, \"11.0\": 18, \"12.0\": 9, \"13.0\": 8, \"14.0\": 7, \"15.0\": 6}\n",
        "\n",
        "with open(\"./drive/MyDrive/dictionary.txt\", \"w\") as outfile:\n",
        "    json.dump(data_dict , outfile )\n"
      ]
    },
    {
      "cell_type": "code",
      "source": [
        "import json\n",
        "\n",
        "with open('./drive/MyDrive/dictionary.txt' , 'r') as f :\n",
        "    data_dic = json.load(f)\n",
        "\n",
        "model = torch.load('./drive/MyDrive/model.pth') # a model with 94% accuracy\n"
      ],
      "metadata": {
        "colab": {
          "base_uri": "https://localhost:8080/"
        },
        "id": "w9zjb08noTQE",
        "outputId": "f3849d55-bbcb-45cf-aee0-53baf9b81e10"
      },
      "execution_count": null,
      "outputs": [
        {
          "output_type": "stream",
          "name": "stdout",
          "text": [
            "{'0.0': 2775722279, '1.0': 472760502, '2.0': 25501475, '3.0': 2514363, '4.0': 252588, '5.0': 40634, '6.0': 6465, '7.0': 1242, '8.0': 264, '9.0': 90, '10.0': 71, '11.0': 18, '12.0': 9, '13.0': 8, '14.0': 7, '15.0': 6}\n"
          ]
        }
      ]
    },
    {
      "cell_type": "markdown",
      "source": [
        "**BPP Computation**"
      ],
      "metadata": {
        "id": "QInA7jytuWmW"
      }
    },
    {
      "cell_type": "code",
      "source": [
        "# define hoff module at \"./drive/MyDrive/huffmann_encoding\"\n",
        "import hoff as he\n",
        "\n",
        "c1, c2 = 0, 0\n",
        "bpp = 0\n",
        "for batch in big_cifar_data['train']:\n",
        "\n",
        "    images, labels = batch[0].to(device), batch[1].to(device)\n",
        "    outputs = model.layer2[1](model.layer1(model.maxpool(model.relu(model.bn1(model.conv1(images))))))\n",
        "    the_data = outputs.flatten().tolist()\n",
        "    encoding, treehead , c1 , c2  = he.HuffmanEncoding( the_data, train_dic = data_dic)\n",
        "\n",
        "    break\n",
        "\n",
        "bpp = c2/(128*3*128*128)\n",
        "print( \"Earlier required bpp was : \" , 8 )\n",
        "print(\"BPP is  \" , bpp)"
      ],
      "metadata": {
        "id": "xTomJU5lsIg1",
        "colab": {
          "base_uri": "https://localhost:8080/"
        },
        "outputId": "b0f5a3f6-60f7-4903-8a02-33cff784022b"
      },
      "execution_count": null,
      "outputs": [
        {
          "output_type": "stream",
          "name": "stdout",
          "text": [
            "Space usage before compression (in bits): 67108864\n",
            "Space usage after compression (in bits): 9719988\n",
            "Earlier required bpp was :  8\n",
            "BPP is   1.5449504852294922\n"
          ]
        }
      ]
    },
    {
      "cell_type": "markdown",
      "source": [
        "# **Test with VAE layer for encoding.**"
      ],
      "metadata": {
        "id": "n-hgzmGMviXW"
      }
    },
    {
      "cell_type": "code",
      "source": [
        "class Reshape(nn.Module):\n",
        "    def __init__(self, *args):\n",
        "        super().__init__()\n",
        "        self.shape = args\n",
        "\n",
        "    def forward(self, x):\n",
        "        return x.view(self.shape)\n",
        "\n",
        "class VAE(nn.Module):\n",
        "    def __init__(self):\n",
        "        super().__init__()\n",
        "\n",
        "        self.encoder = nn.Sequential(\n",
        "                nn.Conv2d(3, 32, stride=2, kernel_size=3, bias=False, padding=1),\n",
        "                nn.BatchNorm2d(32),\n",
        "                nn.LeakyReLU(0.1, inplace=True),\n",
        "                nn.Dropout2d(0.25),\n",
        "                #\n",
        "                nn.Conv2d(32, 64, stride=2, kernel_size=3, bias=False, padding=1),\n",
        "                nn.BatchNorm2d(64),\n",
        "                nn.LeakyReLU(0.1, inplace=True),\n",
        "                nn.Dropout2d(0.25),\n",
        "                #\n",
        "                nn.Conv2d(64, 64, stride=2, kernel_size=3, bias=False, padding=1),\n",
        "                nn.BatchNorm2d(64),\n",
        "                nn.LeakyReLU(0.1, inplace=True),\n",
        "                nn.Dropout2d(0.25),\n",
        "                #\n",
        "                nn.Conv2d(64, 64, stride=2, kernel_size=3, bias=False, padding=1),\n",
        "                nn.BatchNorm2d(64),\n",
        "                nn.LeakyReLU(0.1, inplace=True),\n",
        "                nn.Dropout2d(0.25),\n",
        "                #\n",
        "                nn.Flatten(),\n",
        "        )\n",
        "\n",
        "        self.z_mean = torch.nn.Linear(2048*2, 200)\n",
        "        self.z_log_var = torch.nn.Linear(2048*2, 200)\n",
        "\n",
        "        self.decoder = nn.Sequential(\n",
        "                torch.nn.Linear(200, 2048*2),\n",
        "                Reshape(-1, 64, 8, 8),\n",
        "                #\n",
        "                nn.UpsamplingNearest2d(scale_factor=2),\n",
        "                nn.Conv2d(64, 64, stride=1, kernel_size=3, padding=1),\n",
        "                nn.BatchNorm2d(64),\n",
        "                nn.LeakyReLU(0.1, inplace=True),\n",
        "                nn.Dropout2d(0.25),\n",
        "                #\n",
        "                nn.UpsamplingNearest2d(scale_factor=2),\n",
        "                nn.Conv2d(64, 64, stride=1, kernel_size=3, padding=1),\n",
        "                nn.BatchNorm2d(64),\n",
        "                nn.LeakyReLU(0.1, inplace=True),\n",
        "                nn.Dropout2d(0.25),\n",
        "                #\n",
        "                nn.UpsamplingNearest2d(scale_factor=2),\n",
        "                nn.Conv2d(64, 32, stride=1, kernel_size=3, padding=1),\n",
        "                nn.BatchNorm2d(32),\n",
        "                nn.LeakyReLU(0.1, inplace=True),\n",
        "                nn.Dropout2d(0.25),\n",
        "                #\n",
        "                nn.UpsamplingNearest2d(scale_factor=2),\n",
        "                nn.Conv2d(32, 3, stride=1, kernel_size=3, padding=1),\n",
        "                nn.Sigmoid()\n",
        "                )\n",
        "\n",
        "\n",
        "    def encoding_fn(self, x):\n",
        "        x = self.encoder(x)\n",
        "        z_mean, z_log_var = self.z_mean(x), self.z_log_var(x)\n",
        "        encoded = self.reparameterize(z_mean, z_log_var)\n",
        "        return encoded\n",
        "\n",
        "\n",
        "    def reparameterize(self, z_mu, z_log_var):\n",
        "        eps = torch.randn(z_mu.size(0), z_mu.size(1)).to(z_mu.get_device())\n",
        "        z = z_mu + eps * torch.exp(z_log_var/2.)\n",
        "        return z\n",
        "\n",
        "    def forward(self, x):\n",
        "        x = self.encoder(x)\n",
        "        z_mean, z_log_var = self.z_mean(x), self.z_log_var(x)\n",
        "        encoded = self.reparameterize(z_mean, z_log_var)\n",
        "        decoded = self.decoder(encoded)\n",
        "        return encoded, z_mean, z_log_var, decoded"
      ],
      "metadata": {
        "id": "ppavtEBT_oDp"
      },
      "execution_count": null,
      "outputs": []
    },
    {
      "cell_type": "code",
      "source": [
        "vae = VAE()\n",
        "vae.load_state_dict(torch.load('./drive/MyDrive/vae_on_cifar_data.pth'))"
      ],
      "metadata": {
        "colab": {
          "base_uri": "https://localhost:8080/"
        },
        "id": "bIL12Ehuj6kJ",
        "outputId": "863b6e9e-2a05-41d8-e757-f647dd133d76"
      },
      "execution_count": null,
      "outputs": [
        {
          "output_type": "execute_result",
          "data": {
            "text/plain": [
              "<All keys matched successfully>"
            ]
          },
          "metadata": {},
          "execution_count": 17
        }
      ]
    },
    {
      "cell_type": "code",
      "source": [
        "# Freeze all layers with its parameters\n",
        "for p in vae.parameters():\n",
        "    p.requires_grad = False"
      ],
      "metadata": {
        "id": "vUM6EhrFQ-8m"
      },
      "execution_count": null,
      "outputs": []
    },
    {
      "cell_type": "code",
      "source": [
        "model_cifar = torch.load('./drive/MyDrive/model_forkd.pth')"
      ],
      "metadata": {
        "id": "rB8S8kfKRSco"
      },
      "execution_count": null,
      "outputs": []
    },
    {
      "cell_type": "code",
      "source": [
        "print( \"Acuracy of model \" , accuracy(model_cifar , big_cifar_data['train']))"
      ],
      "metadata": {
        "colab": {
          "base_uri": "https://localhost:8080/"
        },
        "id": "sLFua5pJQ-zB",
        "outputId": "1f2c31f0-ca3b-411e-f251-3f46bc583dd1"
      },
      "execution_count": null,
      "outputs": [
        {
          "output_type": "stream",
          "name": "stdout",
          "text": [
            "Acuracy of model  0.96602\n"
          ]
        }
      ]
    },
    {
      "cell_type": "code",
      "source": [
        "class optimized_model(nn.Module):\n",
        "\n",
        "    def __init__(self) :\n",
        "        super().__init__()\n",
        "\n",
        "        self.vae_layer = vae\n",
        "        self.model_cifar = model_cifar\n",
        "\n",
        "    def forward(self , x ):\n",
        "\n",
        "        # encoded, z_mean, z_log_var, decoded_images = self.vae_layer(x)\n",
        "        return model_cifar(self.vae_layer(x)[3])\n",
        "\n"
      ],
      "metadata": {
        "id": "1BGWGqQXSNaa"
      },
      "execution_count": null,
      "outputs": []
    },
    {
      "cell_type": "code",
      "source": [
        "nu = optimized_model()\n"
      ],
      "metadata": {
        "id": "h5x0IOwxTPrM"
      },
      "execution_count": null,
      "outputs": []
    },
    {
      "cell_type": "code",
      "source": [
        "print( \"Accuracy :\" , accuracy(nu , big_cifar_data['train']))"
      ],
      "metadata": {
        "colab": {
          "base_uri": "https://localhost:8080/"
        },
        "id": "afgpjNiMTgGS",
        "outputId": "e7e4861c-eaa4-4208-b60d-a1f23065b0d3"
      },
      "execution_count": null,
      "outputs": [
        {
          "output_type": "stream",
          "name": "stdout",
          "text": [
            "Accuracy : 0.24912\n"
          ]
        }
      ]
    },
    {
      "cell_type": "code",
      "source": [
        "print( vae(          torch.rand( [1 , 3, 128 , 128 ]).cuda()    )[1])"
      ],
      "metadata": {
        "id": "rMaBS3lpUA6h"
      },
      "execution_count": null,
      "outputs": []
    },
    {
      "cell_type": "code",
      "source": [
        "for p in nu.parameters():\n",
        "    print(p.requires_grad)"
      ],
      "metadata": {
        "id": "pUnGqiGwVbXT"
      },
      "execution_count": null,
      "outputs": []
    },
    {
      "cell_type": "code",
      "source": [
        "lssos = train_after_quantize( nu , big_cifar_data['train'] , epochs = 7 , lr = 0.001 , print_every = 100)"
      ],
      "metadata": {
        "colab": {
          "base_uri": "https://localhost:8080/"
        },
        "id": "6-8YvGUoVyPD",
        "outputId": "05aec6c3-d3cd-498c-b20d-f4bde468b70f"
      },
      "execution_count": null,
      "outputs": [
        {
          "output_type": "stream",
          "name": "stdout",
          "text": [
            "[0,   100] loss: 0.85671\n",
            "[0,   200] loss: 0.81056\n",
            "[0,   300] loss: 0.75649\n",
            "EPOCH  0\n",
            " Training Accuracy is:  0.75866|Testing Accuracy is:  0.7379\n",
            "\n",
            "[1,   100] loss: 0.69410\n",
            "[1,   200] loss: 0.68126\n",
            "[1,   300] loss: 0.69036\n",
            "EPOCH  1\n",
            " Training Accuracy is:  0.7579|Testing Accuracy is:  0.7357\n",
            "\n",
            "[2,   100] loss: 0.67559\n",
            "[2,   200] loss: 0.66036\n",
            "[2,   300] loss: 0.67250\n",
            "EPOCH  2\n",
            " Training Accuracy is:  0.76766|Testing Accuracy is:  0.744\n",
            "\n",
            "[3,   100] loss: 0.65037\n",
            "[3,   200] loss: 0.63983\n",
            "[3,   300] loss: 0.65242\n",
            "EPOCH  3\n",
            " Training Accuracy is:  0.7704|Testing Accuracy is:  0.7389\n",
            "\n",
            "[4,   100] loss: 0.62942\n",
            "[4,   200] loss: 0.64449\n",
            "[4,   300] loss: 0.64367\n",
            "EPOCH  4\n",
            " Training Accuracy is:  0.77748|Testing Accuracy is:  0.7483\n",
            "\n",
            "[5,   100] loss: 0.62115\n",
            "[5,   200] loss: 0.64060\n",
            "[5,   300] loss: 0.63241\n",
            "EPOCH  5\n",
            " Training Accuracy is:  0.77912|Testing Accuracy is:  0.7488\n",
            "\n",
            "[6,   100] loss: 0.60975\n",
            "[6,   200] loss: 0.61718\n",
            "[6,   300] loss: 0.64265\n",
            "EPOCH  6\n",
            " Training Accuracy is:  0.77772|Testing Accuracy is:  0.7444\n",
            "\n"
          ]
        }
      ]
    },
    {
      "cell_type": "code",
      "source": [
        "lssos = train_after_quantize( nu , big_cifar_data['train'] , epochs = 7 , lr = 0.0001 , print_every = 100)"
      ],
      "metadata": {
        "colab": {
          "base_uri": "https://localhost:8080/"
        },
        "id": "wD0nVi38ekiH",
        "outputId": "60e40c72-5889-42fe-826d-f46e4d787d0f"
      },
      "execution_count": null,
      "outputs": [
        {
          "output_type": "stream",
          "name": "stdout",
          "text": [
            "[0,   100] loss: 0.72051\n",
            "[0,   200] loss: 0.70064\n",
            "[0,   300] loss: 0.70593\n",
            "EPOCH  0\n",
            " Training Accuracy is:  0.7772|Testing Accuracy is:  0.7459\n",
            "\n",
            "[1,   100] loss: 0.62751\n",
            "[1,   200] loss: 0.62604\n",
            "[1,   300] loss: 0.61255\n",
            "EPOCH  1\n",
            " Training Accuracy is:  0.78408|Testing Accuracy is:  0.7512\n",
            "\n",
            "[2,   100] loss: 0.59095\n",
            "[2,   200] loss: 0.62167\n",
            "[2,   300] loss: 0.60542\n",
            "EPOCH  2\n",
            " Training Accuracy is:  0.78678|Testing Accuracy is:  0.7531\n",
            "\n",
            "[3,   100] loss: 0.60462\n",
            "[3,   200] loss: 0.59970\n",
            "[3,   300] loss: 0.61081\n",
            "EPOCH  3\n",
            " Training Accuracy is:  0.78578|Testing Accuracy is:  0.754\n",
            "\n",
            "[4,   100] loss: 0.59859\n",
            "[4,   200] loss: 0.59071\n",
            "[4,   300] loss: 0.61003\n",
            "EPOCH  4\n",
            " Training Accuracy is:  0.7879|Testing Accuracy is:  0.7542\n",
            "\n",
            "[5,   100] loss: 0.60048\n",
            "[5,   200] loss: 0.59381\n",
            "[5,   300] loss: 0.60128\n",
            "EPOCH  5\n",
            " Training Accuracy is:  0.78674|Testing Accuracy is:  0.7527\n",
            "\n",
            "[6,   100] loss: 0.59026\n",
            "[6,   200] loss: 0.60231\n",
            "[6,   300] loss: 0.59571\n",
            "EPOCH  6\n",
            " Training Accuracy is:  0.78808|Testing Accuracy is:  0.7512\n",
            "\n"
          ]
        }
      ]
    },
    {
      "cell_type": "code",
      "source": [
        "flssos = train_after_quantize( nu , big_cifar_data['train'] , epochs = 7 , lr = 0.0001 , print_every = 100)"
      ],
      "metadata": {
        "colab": {
          "base_uri": "https://localhost:8080/",
          "height": 176
        },
        "id": "ecsGGBndhMql",
        "outputId": "dd111501-2a92-4479-81c1-53951b0f0825"
      },
      "execution_count": null,
      "outputs": [
        {
          "output_type": "error",
          "ename": "NameError",
          "evalue": "name 'train_after_quantize' is not defined",
          "traceback": [
            "\u001b[0;31m---------------------------------------------------------------------------\u001b[0m",
            "\u001b[0;31mNameError\u001b[0m                                 Traceback (most recent call last)",
            "\u001b[0;32m<ipython-input-1-38775d74d022>\u001b[0m in \u001b[0;36m<cell line: 1>\u001b[0;34m()\u001b[0m\n\u001b[0;32m----> 1\u001b[0;31m \u001b[0mflssos\u001b[0m \u001b[0;34m=\u001b[0m \u001b[0mtrain_after_quantize\u001b[0m\u001b[0;34m(\u001b[0m \u001b[0mnu\u001b[0m \u001b[0;34m,\u001b[0m \u001b[0mbig_cifar_data\u001b[0m\u001b[0;34m[\u001b[0m\u001b[0;34m'train'\u001b[0m\u001b[0;34m]\u001b[0m \u001b[0;34m,\u001b[0m \u001b[0mepochs\u001b[0m \u001b[0;34m=\u001b[0m \u001b[0;36m7\u001b[0m \u001b[0;34m,\u001b[0m \u001b[0mlr\u001b[0m \u001b[0;34m=\u001b[0m \u001b[0;36m0.0001\u001b[0m \u001b[0;34m,\u001b[0m \u001b[0mprint_every\u001b[0m \u001b[0;34m=\u001b[0m \u001b[0;36m100\u001b[0m\u001b[0;34m)\u001b[0m\u001b[0;34m\u001b[0m\u001b[0;34m\u001b[0m\u001b[0m\n\u001b[0m",
            "\u001b[0;31mNameError\u001b[0m: name 'train_after_quantize' is not defined"
          ]
        }
      ]
    }
  ],
  "metadata": {
    "colab": {
      "provenance": [],
      "toc_visible": true,
      "gpuType": "T4"
    },
    "kernelspec": {
      "display_name": "Python 3",
      "name": "python3"
    },
    "language_info": {
      "name": "python"
    },
    "accelerator": "GPU"
  },
  "nbformat": 4,
  "nbformat_minor": 0
}